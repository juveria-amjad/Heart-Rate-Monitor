{
  "nbformat": 4,
  "nbformat_minor": 0,
  "metadata": {
    "colab": {
      "name": "Heart Rate Monitor.ipynb",
      "provenance": [],
      "authorship_tag": "ABX9TyNB4PCxk/gtXSo6KwIBfv+W",
      "include_colab_link": true
    },
    "kernelspec": {
      "name": "python3",
      "display_name": "Python 3"
    },
    "language_info": {
      "name": "python"
    }
  },
  "cells": [
    {
      "cell_type": "markdown",
      "metadata": {
        "id": "view-in-github",
        "colab_type": "text"
      },
      "source": [
        "<a href=\"https://colab.research.google.com/github/juveria-amjad/Heart-Rate-Monitor/blob/main/Heart_Rate_Monitor.ipynb\" target=\"_parent\"><img src=\"https://colab.research.google.com/assets/colab-badge.svg\" alt=\"Open In Colab\"/></a>"
      ]
    },
    {
      "cell_type": "code",
      "execution_count": null,
      "metadata": {
        "id": "YkKOz46A54uC"
      },
      "outputs": [],
      "source": [
        "import pickle\n",
        "filename = \"ApneaData.csv\"\n",
        "f = open(filename,'rb')\n",
        "data = f.read()\n",
        "f.close()\n",
        "rows = data.split(b\"\\n\")\n",
        "d = []\n",
        "for row in rows:\n",
        "    rowSplit = list(map(int,row.split(b\" \")))\n",
        "    d.append(rowSplit)\n",
        "f = open('ApneaData.pkl','wb')\n",
        "pickle.dump(d,f)\n",
        "f.close()"
      ]
    },
    {
      "cell_type": "code",
      "source": [
        "import pickle\n",
        "with open('ApneaData.pkl', 'rb') as apnea:\n",
        "     data = pickle.load(apnea)"
      ],
      "metadata": {
        "id": "Gzvl4hQ49h8b"
      },
      "execution_count": null,
      "outputs": []
    },
    {
      "cell_type": "code",
      "source": [
        "import pandas as pd\n",
        "apnea = pd.DataFrame(data)"
      ],
      "metadata": {
        "id": "hyx4RQLcNhPM"
      },
      "execution_count": null,
      "outputs": []
    },
    {
      "cell_type": "code",
      "source": [
        "apnea"
      ],
      "metadata": {
        "id": "B5Yx2ynQN_6F"
      },
      "execution_count": null,
      "outputs": []
    },
    {
      "cell_type": "markdown",
      "source": [
        "Using RandomForestClassifier to train"
      ],
      "metadata": {
        "id": "tFl1L13V6a77"
      }
    },
    {
      "cell_type": "code",
      "source": [
        "import numpy as np\n",
        "from sklearn import svm,ensemble,linear_model\n",
        "from sklearn.metrics import accuracy_score\n",
        "import time\n",
        "import pickle\n",
        "filename = \"ApneaData.pkl\"\n",
        "testPercent=20\n",
        "features = []\n",
        "classes = []\n",
        "t = time.time()\n",
        "f = open(filename,'rb')\n",
        "data = pickle.load(f)\n",
        "f.close()\n",
        "np.random.shuffle(data)\n",
        "for row in data:\n",
        "    features.append(row[:-1])\n",
        "    classes.append(row[-1])\n",
        "inputLength = len(features)\n",
        "testLength = int(inputLength*0.2)\n",
        "train_features, train_classes=features[:-testLength], classes[:-testLength]\n",
        "test_features,test_classes = features[-testLength:],classes[-testLength:]\n",
        "print(\"preprocessing time:\",(time.time()-t))\n",
        "t=time.time()\n",
        "clf=ensemble.RandomForestClassifier(n_estimators=30)\n",
        "clf.fit(train_features,train_classes)\n",
        "print(\"fitting time:\",(time.time()-t))\n",
        "t=time.time()\n",
        "pred_classes=[]\n",
        "for e in test_features:\n",
        "    pred_classes.append(clf.predict([e])[0])\n",
        "score = accuracy_score(pred_classes,test_classes)*100\n",
        "print(\"predicting time:\",(time.time()-t))\n",
        "print(\"Accuracy:\",score)"
      ],
      "metadata": {
        "id": "_1IK2Ovq6DI1"
      },
      "execution_count": null,
      "outputs": []
    },
    {
      "cell_type": "code",
      "source": [
        "import numpy as np\n",
        "from sklearn import svm,naive_bayes,ensemble,linear_model\n",
        "from sklearn.metrics import accuracy_score\n",
        "import time\n",
        "t=time.time()\n",
        "LR = linear_model.LogisticRegression()\n",
        "LR.fit(train_features,train_classes)\n",
        "print(\"fitting time:\",(time.time()-t))\n",
        "t=time.time()\n",
        "pred_classes=[]\n",
        "for e in test_features:\n",
        "    pred_classes.append(LR.predict([e])[0])\n",
        "score = accuracy_score(pred_classes,test_classes)*100\n",
        "print(\"predicting time:\",(time.time()-t))\n",
        "print(\"Accuracy:\",score)"
      ],
      "metadata": {
        "colab": {
          "base_uri": "https://localhost:8080/"
        },
        "id": "EZDnxQ39Ywhq",
        "outputId": "6b5901cf-56e5-4c17-dcf3-b330a41c5e74"
      },
      "execution_count": null,
      "outputs": [
        {
          "output_type": "stream",
          "name": "stderr",
          "text": [
            "/usr/local/lib/python3.7/dist-packages/sklearn/linear_model/_logistic.py:818: ConvergenceWarning: lbfgs failed to converge (status=1):\n",
            "STOP: TOTAL NO. of ITERATIONS REACHED LIMIT.\n",
            "\n",
            "Increase the number of iterations (max_iter) or scale the data as shown in:\n",
            "    https://scikit-learn.org/stable/modules/preprocessing.html\n",
            "Please also refer to the documentation for alternative solver options:\n",
            "    https://scikit-learn.org/stable/modules/linear_model.html#logistic-regression\n",
            "  extra_warning_msg=_LOGISTIC_SOLVER_CONVERGENCE_MSG,\n"
          ]
        },
        {
          "output_type": "stream",
          "name": "stdout",
          "text": [
            "fitting time: 24.572319746017456\n",
            "predicting time: 2.4136195182800293\n",
            "Accuracy: 51.56532209512342\n"
          ]
        }
      ]
    },
    {
      "cell_type": "code",
      "source": [
        "with open('/content/model.pkl', 'wb') as fid:\n",
        "     pickle.dump(clf, fid)"
      ],
      "metadata": {
        "id": "z1TVg0xbROPL"
      },
      "execution_count": null,
      "outputs": []
    },
    {
      "cell_type": "code",
      "source": [
        "import pickle\n",
        "with open('/content/model.pkl', 'rb') as fid:\n",
        "     testModel = pickle.load(fid)"
      ],
      "metadata": {
        "id": "a8qXYoZgR1UC"
      },
      "execution_count": null,
      "outputs": []
    },
    {
      "cell_type": "code",
      "source": [
        "testModel"
      ],
      "metadata": {
        "id": "oyjWrmv0R_2z",
        "colab": {
          "base_uri": "https://localhost:8080/"
        },
        "outputId": "d9fa85bb-051f-4c5a-fe05-8e4f03a25e7b"
      },
      "execution_count": null,
      "outputs": [
        {
          "output_type": "execute_result",
          "data": {
            "text/plain": [
              "RandomForestClassifier(n_estimators=30)"
            ]
          },
          "metadata": {},
          "execution_count": 6
        }
      ]
    },
    {
      "cell_type": "code",
      "source": [
        "testBPM = data[1][:-1]\n",
        "\n",
        "print(testBPM)"
      ],
      "metadata": {
        "id": "aFWMmS1USDOK"
      },
      "execution_count": null,
      "outputs": []
    },
    {
      "cell_type": "code",
      "source": [
        "y_Apnea = testModel.predict([testBPM])\n",
        "print(y_Apnea)"
      ],
      "metadata": {
        "colab": {
          "base_uri": "https://localhost:8080/"
        },
        "id": "_DgnEDsvSihM",
        "outputId": "58bf5ee0-f9f0-4fda-ca54-781ec4b39faa"
      },
      "execution_count": null,
      "outputs": [
        {
          "output_type": "stream",
          "name": "stdout",
          "text": [
            "[1]\n"
          ]
        }
      ]
    }
  ]
}